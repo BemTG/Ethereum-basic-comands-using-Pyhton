{
 "cells": [
  {
   "cell_type": "code",
   "execution_count": 6,
   "metadata": {},
   "outputs": [],
   "source": [
    "from web3 import Web3"
   ]
  },
  {
   "cell_type": "code",
   "execution_count": 12,
   "metadata": {},
   "outputs": [],
   "source": [
    "ganache_url='HTTP://127.0.0.1:7545'\n",
    "web3=Web3(Web3.HTTPProvider(ganache_url))\n"
   ]
  },
  {
   "cell_type": "code",
   "execution_count": 14,
   "metadata": {},
   "outputs": [
    {
     "name": "stdout",
     "output_type": "stream",
     "text": [
      "True\n"
     ]
    }
   ],
   "source": [
    "print(web3.isConnected())"
   ]
  },
  {
   "cell_type": "code",
   "execution_count": 56,
   "metadata": {},
   "outputs": [],
   "source": [
    "account_1='0xb636cbC00AB19EA107FD656a2618d6B27470324A'\n",
    "account_2='0x187ccAAa0966D8b9fCb614FAbb19f651676ED566'\n",
    "\n",
    "\n",
    "private_key='private key of account 1'\n",
    "\n",
    "nonce=web3.eth.getTransactionCount(account_1)\n"
   ]
  },
  {
   "cell_type": "code",
   "execution_count": 57,
   "metadata": {},
   "outputs": [
    {
     "name": "stdout",
     "output_type": "stream",
     "text": [
      "b'\\\\\\\\\\x10\\x1c\\x8e\\x84\\xd1\\xe0\\x1a\\xbfiFu\\x17\\xfe&0\\xb6\\x1c\\x121\\xaf9P\\x86\\xef\\xd4\\x15%\\xc1P\\xcd'\n"
     ]
    }
   ],
   "source": [
    "\n",
    "\n",
    "\n",
    "tx={\n",
    "    'nonce':nonce,\n",
    "    'to': account_2,\n",
    "    'value': web3.toWei(6.98,'ether'),\n",
    "    'gas':2000000,\n",
    "    'gasPrice':web3.toWei('50','gwei')\n",
    "}\n",
    "\n",
    "signed_tx= web3.eth.account.signTransaction(tx, private_key)\n",
    "tx_hash= web3.eth.sendRawTransaction(signed_tx.rawTransaction)\n",
    "\n",
    "print(tx_hash)\n"
   ]
  },
  {
   "cell_type": "code",
   "execution_count": 41,
   "metadata": {},
   "outputs": [
    {
     "name": "stdout",
     "output_type": "stream",
     "text": [
      "0x060a8bfa5d3b3bdcab7cd3d6d635701a780fb000b7e0f406f401661264189845\n"
     ]
    }
   ],
   "source": [
    "print(web3.toHex(tx_hash))"
   ]
  },
  {
   "cell_type": "code",
   "execution_count": null,
   "metadata": {},
   "outputs": [],
   "source": []
  }
 ],
 "metadata": {
  "kernelspec": {
   "display_name": "Python 3",
   "language": "python",
   "name": "python3"
  },
  "language_info": {
   "codemirror_mode": {
    "name": "ipython",
    "version": 3
   },
   "file_extension": ".py",
   "mimetype": "text/x-python",
   "name": "python",
   "nbconvert_exporter": "python",
   "pygments_lexer": "ipython3",
   "version": "3.7.0"
  }
 },
 "nbformat": 4,
 "nbformat_minor": 2
}
